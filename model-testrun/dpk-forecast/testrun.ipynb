{
 "cells": [
  {
   "attachments": {},
   "cell_type": "markdown",
   "metadata": {},
   "source": [
    "# Koopman Theory and Application for Dynamic Non-Linear Systems\n",
    "\n",
    "### Intro :\n",
    "Koopman operator is a compositon operator (refer [Wikipedia](https://en.wikipedia.org/wiki/Composition_operator)) which refers to the understanding of dynamical systems in Physics. It was introduced by Bernard Koopman.\n",
    "More info in this [book](D:\\TBP\\PROJECT_DS\\HACKATHONS\\model-testrun\\koopman-forecasting\\KoopmanOperator-Systems&Control_book.pdf).\n",
    "\n",
    "### Sources :\n",
    " 1. [Modern Koopman Theory for Dynamic Systems](https://arxiv.org/abs/2102.12086) - Literature Review\n",
    " 2. [Koopman Operator Theory](https://fluids.ac.uk/files/meetings/KoopmanNotes.1575558616.pdf) - Research Notes\n",
    " 3. [Deep Probabilistic Koopman-Time Series Forecasting](https://arxiv.org/abs/2106.06033) - ML Model Publication\n",
    "\n",
    "### Keywords :\n",
    "- [Dynamic Mode Decomposition (DMD)](D:\\TBP\\PROJECT_DS\\HACKATHONS\\model-testrun\\koopman-forecasting)\n",
    "- Koopman operator"
   ]
  },
  {
   "cell_type": "code",
   "execution_count": null,
   "metadata": {},
   "outputs": [],
   "source": []
  },
  {
   "cell_type": "markdown",
   "metadata": {},
   "source": []
  }
 ],
 "metadata": {
  "language_info": {
   "name": "python"
  },
  "orig_nbformat": 4
 },
 "nbformat": 4,
 "nbformat_minor": 2
}
